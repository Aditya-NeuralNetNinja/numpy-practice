{
  "nbformat": 4,
  "nbformat_minor": 0,
  "metadata": {
    "colab": {
      "provenance": []
    },
    "kernelspec": {
      "name": "python3",
      "display_name": "Python 3"
    },
    "language_info": {
      "name": "python"
    }
  },
  "cells": [
    {
      "cell_type": "markdown",
      "source": [
        "### What is numpy?\n",
        "\n",
        "NumPy is the fundamental package for scientific computing in Python. It is a Python library that provides a multidimensional array object, various derived objects (such as masked arrays and matrices), and an assortment of routines for fast operations on arrays, including mathematical, logical, shape manipulation, sorting, selecting, I/O, discrete Fourier transforms, basic linear algebra, basic statistical operations, random simulation and much more.\n",
        "\n",
        "\n",
        "At the core of the NumPy package, is the ndarray object. This encapsulates n-dimensional arrays of homogeneous data types"
      ],
      "metadata": {
        "id": "lFF783PD7ypT"
      }
    },
    {
      "cell_type": "markdown",
      "source": [
        "### Numpy Arrays Vs Python Sequences\n",
        "\n",
        "- NumPy arrays have a fixed size at creation, unlike Python lists (which can grow dynamically). Changing the size of an ndarray will create a new array and delete the original.\n",
        "\n",
        "- The elements in a NumPy array are all required to be of the same data type, and thus will be the same size in memory.\n",
        "\n",
        "- NumPy arrays facilitate advanced mathematical and other types of operations on large numbers of data. Typically, such operations are executed more efficiently and with less code than is possible using Python’s built-in sequences.\n",
        "\n",
        "- A growing plethora of scientific and mathematical Python-based packages are using NumPy arrays; though these typically support Python-sequence input, they convert such input to NumPy arrays prior to processing, and they often output NumPy arrays."
      ],
      "metadata": {
        "id": "HPRzhmwiZkOP"
      }
    },
    {
      "cell_type": "markdown",
      "source": [
        "### Creating Numpy Arrays"
      ],
      "metadata": {
        "id": "0PyrZ724szaG"
      }
    },
    {
      "cell_type": "code",
      "source": [
        "# np.array\n",
        "import numpy as np\n",
        "\n",
        "a = np.array([1,2,3])\n",
        "print(a)"
      ],
      "metadata": {
        "colab": {
          "base_uri": "https://localhost:8080/"
        },
        "id": "V4AVNXrts3sL",
        "outputId": "4d1d6d7f-347e-4ad5-80e0-ef88443f2e33"
      },
      "execution_count": 2,
      "outputs": [
        {
          "output_type": "stream",
          "name": "stdout",
          "text": [
            "[1 2 3]\n"
          ]
        }
      ]
    },
    {
      "cell_type": "code",
      "source": [
        "a1 = np.array([-1,4,5],dtype=np.float16)\n",
        "a1"
      ],
      "metadata": {
        "id": "2mVrIAd8CH6e",
        "outputId": "54a5da43-8ee3-452e-ef01-7ada871a3eeb",
        "colab": {
          "base_uri": "https://localhost:8080/"
        }
      },
      "execution_count": 10,
      "outputs": [
        {
          "output_type": "execute_result",
          "data": {
            "text/plain": [
              "array([-1.,  4.,  5.], dtype=float16)"
            ]
          },
          "metadata": {},
          "execution_count": 10
        }
      ]
    },
    {
      "cell_type": "code",
      "source": [
        "# 2D and 3D\n",
        "b = np.array([[1,2,3],[4,5,6]])\n",
        "print(b)"
      ],
      "metadata": {
        "colab": {
          "base_uri": "https://localhost:8080/"
        },
        "id": "AAfxD1kCs6R5",
        "outputId": "6eef9606-76f3-49e0-87da-6f1f99f70d1c"
      },
      "execution_count": 14,
      "outputs": [
        {
          "output_type": "stream",
          "name": "stdout",
          "text": [
            "[[1 2 3]\n",
            " [4 5 6]]\n"
          ]
        }
      ]
    },
    {
      "cell_type": "code",
      "source": [
        "b1 = np.array([[12,2],[1,3]])\n",
        "b1"
      ],
      "metadata": {
        "id": "GPWAnMCZb2iY",
        "outputId": "d20f5885-f08f-4fa6-9482-7365c1ef597a",
        "colab": {
          "base_uri": "https://localhost:8080/"
        }
      },
      "execution_count": 13,
      "outputs": [
        {
          "output_type": "execute_result",
          "data": {
            "text/plain": [
              "array([[12,  2],\n",
              "       [ 1,  3]])"
            ]
          },
          "metadata": {},
          "execution_count": 13
        }
      ]
    },
    {
      "cell_type": "code",
      "source": [
        "c = np.array([[[1,2],[3,4]],[[5,6],[7,8]]])\n",
        "print(c)"
      ],
      "metadata": {
        "colab": {
          "base_uri": "https://localhost:8080/"
        },
        "id": "MyrHdd6J6CrF",
        "outputId": "a8c140e1-3d05-4cc3-fc9c-916cae86d364"
      },
      "execution_count": 7,
      "outputs": [
        {
          "output_type": "stream",
          "name": "stdout",
          "text": [
            "[[[1 2]\n",
            "  [3 4]]\n",
            "\n",
            " [[5 6]\n",
            "  [7 8]]]\n"
          ]
        }
      ]
    },
    {
      "cell_type": "code",
      "source": [
        "c1 = np.array([[[1,3,0],[4,5,6],[0,1,8]]])\n",
        "print(c1)"
      ],
      "metadata": {
        "id": "vT2wD1QFeC0M",
        "outputId": "0fffac18-ecb3-4c9b-b738-490476cbeca7",
        "colab": {
          "base_uri": "https://localhost:8080/"
        }
      },
      "execution_count": 17,
      "outputs": [
        {
          "output_type": "stream",
          "name": "stdout",
          "text": [
            "[[[1 3 0]\n",
            "  [4 5 6]\n",
            "  [0 1 8]]]\n"
          ]
        }
      ]
    },
    {
      "cell_type": "code",
      "source": [
        "# dtype\n",
        "np.array([1,2,3],dtype=float)"
      ],
      "metadata": {
        "colab": {
          "base_uri": "https://localhost:8080/"
        },
        "id": "FM8AwUOdFqC7",
        "outputId": "63ee85e6-449e-4e1f-e5a3-563bfae4dc9e"
      },
      "execution_count": null,
      "outputs": [
        {
          "output_type": "execute_result",
          "data": {
            "text/plain": [
              "array([1., 2., 3.])"
            ]
          },
          "metadata": {},
          "execution_count": 74
        }
      ]
    },
    {
      "cell_type": "code",
      "source": [
        "# np.arange\n",
        "np.arange(1,11,2)"
      ],
      "metadata": {
        "colab": {
          "base_uri": "https://localhost:8080/"
        },
        "id": "ZY187Au_s8vm",
        "outputId": "cb13d451-a431-446f-f3a3-245315da6775"
      },
      "execution_count": null,
      "outputs": [
        {
          "output_type": "execute_result",
          "data": {
            "text/plain": [
              "array([1, 3, 5, 7, 9])"
            ]
          },
          "metadata": {},
          "execution_count": 76
        }
      ]
    },
    {
      "cell_type": "code",
      "source": [
        "np.arange(1,6,2)"
      ],
      "metadata": {
        "id": "amfI8ElNrjwq",
        "outputId": "def4a596-59d0-46b8-8498-58c0610b79ca",
        "colab": {
          "base_uri": "https://localhost:8080/"
        }
      },
      "execution_count": 21,
      "outputs": [
        {
          "output_type": "execute_result",
          "data": {
            "text/plain": [
              "array([1, 3, 5])"
            ]
          },
          "metadata": {},
          "execution_count": 21
        }
      ]
    },
    {
      "cell_type": "code",
      "source": [
        "# with reshape\n",
        "np.arange(16).reshape(2,2,2,2)"
      ],
      "metadata": {
        "colab": {
          "base_uri": "https://localhost:8080/"
        },
        "id": "3Gc7BaJZwl7e",
        "outputId": "c1e4173a-80d6-449b-9cbc-ae4a6fba5d20"
      },
      "execution_count": null,
      "outputs": [
        {
          "output_type": "execute_result",
          "data": {
            "text/plain": [
              "array([[[[ 0,  1],\n",
              "         [ 2,  3]],\n",
              "\n",
              "        [[ 4,  5],\n",
              "         [ 6,  7]]],\n",
              "\n",
              "\n",
              "       [[[ 8,  9],\n",
              "         [10, 11]],\n",
              "\n",
              "        [[12, 13],\n",
              "         [14, 15]]]])"
            ]
          },
          "metadata": {},
          "execution_count": 90
        }
      ]
    },
    {
      "cell_type": "code",
      "source": [
        "np.arange(1,5)"
      ],
      "metadata": {
        "id": "wKE8hF6Gt84v",
        "outputId": "a241a03d-8680-41e9-9b55-64b0b1be9d9a",
        "colab": {
          "base_uri": "https://localhost:8080/"
        }
      },
      "execution_count": 24,
      "outputs": [
        {
          "output_type": "execute_result",
          "data": {
            "text/plain": [
              "array([1, 2, 3, 4])"
            ]
          },
          "metadata": {},
          "execution_count": 24
        }
      ]
    },
    {
      "cell_type": "code",
      "source": [
        "np.arange(1,5).reshape(2,2)"
      ],
      "metadata": {
        "id": "0KR_TO-luBFC",
        "outputId": "5d7e2477-0099-4c49-edfc-2cd9ea030418",
        "colab": {
          "base_uri": "https://localhost:8080/"
        }
      },
      "execution_count": 25,
      "outputs": [
        {
          "output_type": "execute_result",
          "data": {
            "text/plain": [
              "array([[1, 2],\n",
              "       [3, 4]])"
            ]
          },
          "metadata": {},
          "execution_count": 25
        }
      ]
    },
    {
      "cell_type": "code",
      "source": [
        "# np.ones and np.zeros\n",
        "np.ones((3,4))"
      ],
      "metadata": {
        "colab": {
          "base_uri": "https://localhost:8080/"
        },
        "id": "R2BYpYcGs-9l",
        "outputId": "992ba3c5-532b-4229-997b-b584de7d36d8"
      },
      "execution_count": null,
      "outputs": [
        {
          "output_type": "execute_result",
          "data": {
            "text/plain": [
              "array([[1., 1., 1., 1.],\n",
              "       [1., 1., 1., 1.],\n",
              "       [1., 1., 1., 1.]])"
            ]
          },
          "metadata": {},
          "execution_count": 84
        }
      ]
    },
    {
      "cell_type": "code",
      "source": [
        "np.ones((2,6))"
      ],
      "metadata": {
        "id": "ztC71lisuxx6",
        "outputId": "cb6c465d-3c50-4d6f-b616-977586011269",
        "colab": {
          "base_uri": "https://localhost:8080/"
        }
      },
      "execution_count": 27,
      "outputs": [
        {
          "output_type": "execute_result",
          "data": {
            "text/plain": [
              "array([[1., 1., 1., 1., 1., 1.],\n",
              "       [1., 1., 1., 1., 1., 1.]])"
            ]
          },
          "metadata": {},
          "execution_count": 27
        }
      ]
    },
    {
      "cell_type": "code",
      "source": [
        "np.zeros((3,4))"
      ],
      "metadata": {
        "colab": {
          "base_uri": "https://localhost:8080/"
        },
        "id": "vOjv_Euj8HGR",
        "outputId": "85fb7d62-e57f-4935-f33b-0c47a8bca4b3"
      },
      "execution_count": null,
      "outputs": [
        {
          "output_type": "execute_result",
          "data": {
            "text/plain": [
              "array([[0., 0., 0., 0.],\n",
              "       [0., 0., 0., 0.],\n",
              "       [0., 0., 0., 0.]])"
            ]
          },
          "metadata": {},
          "execution_count": 85
        }
      ]
    },
    {
      "cell_type": "code",
      "source": [
        "# np.random - b/w (-1,1)\n",
        "np.random.random((3,4))"
      ],
      "metadata": {
        "colab": {
          "base_uri": "https://localhost:8080/"
        },
        "id": "fYEeYi7itCRM",
        "outputId": "6a5ead6b-3dbb-45f5-a495-b7d78c2683ba"
      },
      "execution_count": null,
      "outputs": [
        {
          "output_type": "execute_result",
          "data": {
            "text/plain": [
              "array([[0.85721156, 0.31248316, 0.08807828, 0.35230774],\n",
              "       [0.96813914, 0.44681708, 0.56396358, 0.53020065],\n",
              "       [0.03277116, 0.28543753, 0.09521082, 0.87967034]])"
            ]
          },
          "metadata": {},
          "execution_count": 86
        }
      ]
    },
    {
      "cell_type": "code",
      "source": [
        "np.random.random((2,5)).reshape(5,2)"
      ],
      "metadata": {
        "id": "8E5gh8_sxXty",
        "outputId": "6426555e-3177-414a-f7bf-20a727b4a3a2",
        "colab": {
          "base_uri": "https://localhost:8080/"
        }
      },
      "execution_count": 44,
      "outputs": [
        {
          "output_type": "execute_result",
          "data": {
            "text/plain": [
              "array([[0.2684227 , 0.64668116],\n",
              "       [0.72084082, 0.80178733],\n",
              "       [0.60394411, 0.57906473],\n",
              "       [0.20105858, 0.98697378],\n",
              "       [0.07292928, 0.34031059]])"
            ]
          },
          "metadata": {},
          "execution_count": 44
        }
      ]
    },
    {
      "cell_type": "code",
      "source": [
        "# np.linspace - equidistant\n",
        "np.linspace(-1,100,10,dtype=int)"
      ],
      "metadata": {
        "colab": {
          "base_uri": "https://localhost:8080/"
        },
        "id": "vel7WrgltE3P",
        "outputId": "e4dfece0-ac49-4281-c113-c05c35996a19"
      },
      "execution_count": 31,
      "outputs": [
        {
          "output_type": "execute_result",
          "data": {
            "text/plain": [
              "array([ -1,  10,  21,  32,  43,  55,  66,  77,  88, 100])"
            ]
          },
          "metadata": {},
          "execution_count": 31
        }
      ]
    },
    {
      "cell_type": "code",
      "source": [
        "np.linspace(1,100,50, dtype=float)"
      ],
      "metadata": {
        "id": "wLMSnAa9vDp9",
        "outputId": "d6739994-742b-4bd7-9c37-b0628c040f20",
        "colab": {
          "base_uri": "https://localhost:8080/"
        }
      },
      "execution_count": 28,
      "outputs": [
        {
          "output_type": "execute_result",
          "data": {
            "text/plain": [
              "array([  1.        ,   3.02040816,   5.04081633,   7.06122449,\n",
              "         9.08163265,  11.10204082,  13.12244898,  15.14285714,\n",
              "        17.16326531,  19.18367347,  21.20408163,  23.2244898 ,\n",
              "        25.24489796,  27.26530612,  29.28571429,  31.30612245,\n",
              "        33.32653061,  35.34693878,  37.36734694,  39.3877551 ,\n",
              "        41.40816327,  43.42857143,  45.44897959,  47.46938776,\n",
              "        49.48979592,  51.51020408,  53.53061224,  55.55102041,\n",
              "        57.57142857,  59.59183673,  61.6122449 ,  63.63265306,\n",
              "        65.65306122,  67.67346939,  69.69387755,  71.71428571,\n",
              "        73.73469388,  75.75510204,  77.7755102 ,  79.79591837,\n",
              "        81.81632653,  83.83673469,  85.85714286,  87.87755102,\n",
              "        89.89795918,  91.91836735,  93.93877551,  95.95918367,\n",
              "        97.97959184, 100.        ])"
            ]
          },
          "metadata": {},
          "execution_count": 28
        }
      ]
    },
    {
      "cell_type": "code",
      "source": [
        "# np.identity\n",
        "np.identity(3)"
      ],
      "metadata": {
        "colab": {
          "base_uri": "https://localhost:8080/"
        },
        "id": "ewyMuXh1tJzi",
        "outputId": "921cf302-94d7-4d44-d696-881b839ced04"
      },
      "execution_count": null,
      "outputs": [
        {
          "output_type": "execute_result",
          "data": {
            "text/plain": [
              "array([[1., 0., 0.],\n",
              "       [0., 1., 0.],\n",
              "       [0., 0., 1.]])"
            ]
          },
          "metadata": {},
          "execution_count": 88
        }
      ]
    },
    {
      "cell_type": "code",
      "source": [
        "np.identity(4)"
      ],
      "metadata": {
        "id": "xsao-1lAvfG9",
        "outputId": "81bed6a6-46cb-4fcb-be36-34a18d7786db",
        "colab": {
          "base_uri": "https://localhost:8080/"
        }
      },
      "execution_count": 33,
      "outputs": [
        {
          "output_type": "execute_result",
          "data": {
            "text/plain": [
              "array([[1., 0., 0., 0.],\n",
              "       [0., 1., 0., 0.],\n",
              "       [0., 0., 1., 0.],\n",
              "       [0., 0., 0., 1.]])"
            ]
          },
          "metadata": {},
          "execution_count": 33
        }
      ]
    },
    {
      "cell_type": "markdown",
      "source": [
        "### Array Attributes"
      ],
      "metadata": {
        "id": "LphXpjZJtNyI"
      }
    },
    {
      "cell_type": "code",
      "source": [
        "a1 = np.arange(10,dtype=np.int32)\n",
        "a2 = np.arange(12,dtype=float).reshape(3,4)\n",
        "a3 = np.arange(8).reshape(2,2,2)\n",
        "\n",
        "a3"
      ],
      "metadata": {
        "colab": {
          "base_uri": "https://localhost:8080/"
        },
        "id": "UXnB5dIEFOgD",
        "outputId": "96e0ecf3-4a21-4327-8443-4636f83207fc"
      },
      "execution_count": 34,
      "outputs": [
        {
          "output_type": "execute_result",
          "data": {
            "text/plain": [
              "array([[[0, 1],\n",
              "        [2, 3]],\n",
              "\n",
              "       [[4, 5],\n",
              "        [6, 7]]])"
            ]
          },
          "metadata": {},
          "execution_count": 34
        }
      ]
    },
    {
      "cell_type": "code",
      "source": [
        "a2"
      ],
      "metadata": {
        "id": "1w9JlmpqvvTb",
        "outputId": "9f83a617-b4eb-4fd7-b489-3fdc7a166721",
        "colab": {
          "base_uri": "https://localhost:8080/"
        }
      },
      "execution_count": 35,
      "outputs": [
        {
          "output_type": "execute_result",
          "data": {
            "text/plain": [
              "array([[ 0.,  1.,  2.,  3.],\n",
              "       [ 4.,  5.,  6.,  7.],\n",
              "       [ 8.,  9., 10., 11.]])"
            ]
          },
          "metadata": {},
          "execution_count": 35
        }
      ]
    },
    {
      "cell_type": "code",
      "source": [
        "# ndim -- no. of axes -> a3: 2*2 array, row, column\n",
        "a3.ndim"
      ],
      "metadata": {
        "colab": {
          "base_uri": "https://localhost:8080/"
        },
        "id": "qib4oDFptRKN",
        "outputId": "06c94c6d-69aa-4094-ffdd-96ff3d631429"
      },
      "execution_count": 41,
      "outputs": [
        {
          "output_type": "execute_result",
          "data": {
            "text/plain": [
              "3"
            ]
          },
          "metadata": {},
          "execution_count": 41
        }
      ]
    },
    {
      "cell_type": "code",
      "source": [
        "# shape\n",
        "print(a3.shape)\n",
        "a3"
      ],
      "metadata": {
        "colab": {
          "base_uri": "https://localhost:8080/"
        },
        "id": "InUvH8KGtSRv",
        "outputId": "d567d4cb-a533-4419-e4de-677dc5dd87bb"
      },
      "execution_count": null,
      "outputs": [
        {
          "output_type": "stream",
          "name": "stdout",
          "text": [
            "(2, 2, 2)\n"
          ]
        },
        {
          "output_type": "execute_result",
          "data": {
            "text/plain": [
              "array([[[0, 1],\n",
              "        [2, 3]],\n",
              "\n",
              "       [[4, 5],\n",
              "        [6, 7]]])"
            ]
          },
          "metadata": {},
          "execution_count": 100
        }
      ]
    },
    {
      "cell_type": "code",
      "source": [
        "a3.reshape(4,2)"
      ],
      "metadata": {
        "id": "8Ix-liigv8QE",
        "outputId": "83650480-0f98-4ee0-99ad-65970a8a3bee",
        "colab": {
          "base_uri": "https://localhost:8080/"
        }
      },
      "execution_count": 36,
      "outputs": [
        {
          "output_type": "execute_result",
          "data": {
            "text/plain": [
              "array([[0, 1],\n",
              "       [2, 3],\n",
              "       [4, 5],\n",
              "       [6, 7]])"
            ]
          },
          "metadata": {},
          "execution_count": 36
        }
      ]
    },
    {
      "cell_type": "code",
      "source": [
        "# size\n",
        "print(a2.size)\n",
        "a2"
      ],
      "metadata": {
        "colab": {
          "base_uri": "https://localhost:8080/"
        },
        "id": "9Dko5610tT-Z",
        "outputId": "bbd5227e-bc93-4279-bf28-5dc1a85f8bc4"
      },
      "execution_count": 39,
      "outputs": [
        {
          "output_type": "stream",
          "name": "stdout",
          "text": [
            "12\n"
          ]
        },
        {
          "output_type": "execute_result",
          "data": {
            "text/plain": [
              "array([[ 0.,  1.,  2.,  3.],\n",
              "       [ 4.,  5.,  6.,  7.],\n",
              "       [ 8.,  9., 10., 11.]])"
            ]
          },
          "metadata": {},
          "execution_count": 39
        }
      ]
    },
    {
      "cell_type": "code",
      "source": [
        "# itemsize --  returns the size of each element in array in bytes\n",
        "a3.itemsize"
      ],
      "metadata": {
        "colab": {
          "base_uri": "https://localhost:8080/"
        },
        "id": "wDFdHtH3tV1Z",
        "outputId": "e90ae69c-f661-4e74-a093-046bb5ed9cdd"
      },
      "execution_count": 37,
      "outputs": [
        {
          "output_type": "execute_result",
          "data": {
            "text/plain": [
              "8"
            ]
          },
          "metadata": {},
          "execution_count": 37
        }
      ]
    },
    {
      "cell_type": "code",
      "source": [
        "a41 = np.arange(20).reshape(5, 2, 2,1).astype(np.float16)\n",
        "a41"
      ],
      "metadata": {
        "id": "KtttVfUXtnL1",
        "outputId": "65b93cf8-bd3b-4538-b88d-37327bb108d0",
        "colab": {
          "base_uri": "https://localhost:8080/"
        }
      },
      "execution_count": 42,
      "outputs": [
        {
          "output_type": "execute_result",
          "data": {
            "text/plain": [
              "array([[[[ 0.],\n",
              "         [ 1.]],\n",
              "\n",
              "        [[ 2.],\n",
              "         [ 3.]]],\n",
              "\n",
              "\n",
              "       [[[ 4.],\n",
              "         [ 5.]],\n",
              "\n",
              "        [[ 6.],\n",
              "         [ 7.]]],\n",
              "\n",
              "\n",
              "       [[[ 8.],\n",
              "         [ 9.]],\n",
              "\n",
              "        [[10.],\n",
              "         [11.]]],\n",
              "\n",
              "\n",
              "       [[[12.],\n",
              "         [13.]],\n",
              "\n",
              "        [[14.],\n",
              "         [15.]]],\n",
              "\n",
              "\n",
              "       [[[16.],\n",
              "         [17.]],\n",
              "\n",
              "        [[18.],\n",
              "         [19.]]]], dtype=float16)"
            ]
          },
          "metadata": {},
          "execution_count": 42
        }
      ]
    },
    {
      "cell_type": "code",
      "source": [
        "a41.shape"
      ],
      "metadata": {
        "id": "G73_dOyhtzOx",
        "outputId": "e7b905a2-e018-4f74-c7f4-a2aaf25b192b",
        "colab": {
          "base_uri": "https://localhost:8080/"
        }
      },
      "execution_count": 43,
      "outputs": [
        {
          "output_type": "execute_result",
          "data": {
            "text/plain": [
              "(5, 2, 2, 1)"
            ]
          },
          "metadata": {},
          "execution_count": 43
        }
      ]
    },
    {
      "cell_type": "code",
      "source": [
        "a41.ndim"
      ],
      "metadata": {
        "id": "hRpUfWA-t-pl",
        "outputId": "24df2f72-bd55-4c0b-b6f0-dea5c63cc0b0",
        "colab": {
          "base_uri": "https://localhost:8080/"
        }
      },
      "execution_count": 44,
      "outputs": [
        {
          "output_type": "execute_result",
          "data": {
            "text/plain": [
              "4"
            ]
          },
          "metadata": {},
          "execution_count": 44
        }
      ]
    },
    {
      "cell_type": "code",
      "source": [
        "a41.itemsize"
      ],
      "metadata": {
        "id": "ctEBBwUSuAG1",
        "outputId": "c23f57be-335c-4c61-dc0b-aff85e1060f0",
        "colab": {
          "base_uri": "https://localhost:8080/"
        }
      },
      "execution_count": 45,
      "outputs": [
        {
          "output_type": "execute_result",
          "data": {
            "text/plain": [
              "2"
            ]
          },
          "metadata": {},
          "execution_count": 45
        }
      ]
    },
    {
      "cell_type": "code",
      "source": [
        "# dtype\n",
        "print(a1.dtype)\n",
        "print(a2.dtype)\n",
        "print(a3.dtype)\n",
        "\n"
      ],
      "metadata": {
        "colab": {
          "base_uri": "https://localhost:8080/"
        },
        "id": "Pik7FgEVtXDj",
        "outputId": "4be6bcf7-1fdc-4006-a0dd-9abbf135b521"
      },
      "execution_count": 40,
      "outputs": [
        {
          "output_type": "stream",
          "name": "stdout",
          "text": [
            "int32\n",
            "float64\n",
            "int64\n"
          ]
        }
      ]
    },
    {
      "cell_type": "markdown",
      "source": [
        "### Changing Datatype"
      ],
      "metadata": {
        "id": "7Ase0eFWtcFl"
      }
    },
    {
      "cell_type": "code",
      "source": [
        "# astype\n",
        "a3.astype(np.int32)"
      ],
      "metadata": {
        "colab": {
          "base_uri": "https://localhost:8080/"
        },
        "id": "DZPEFqhotbFS",
        "outputId": "9bc88eda-93bb-4f45-f10f-c0cca164c751"
      },
      "execution_count": 45,
      "outputs": [
        {
          "output_type": "execute_result",
          "data": {
            "text/plain": [
              "array([[[0, 1],\n",
              "        [2, 3]],\n",
              "\n",
              "       [[4, 5],\n",
              "        [6, 7]]], dtype=int32)"
            ]
          },
          "metadata": {},
          "execution_count": 45
        }
      ]
    },
    {
      "cell_type": "code",
      "source": [
        "a3.astype(np.float32)"
      ],
      "metadata": {
        "id": "Oymoxps7yBXe",
        "outputId": "aa6d2f01-52e4-469f-b0da-31c8a0c2f5eb",
        "colab": {
          "base_uri": "https://localhost:8080/"
        }
      },
      "execution_count": 46,
      "outputs": [
        {
          "output_type": "execute_result",
          "data": {
            "text/plain": [
              "array([[[0., 1.],\n",
              "        [2., 3.]],\n",
              "\n",
              "       [[4., 5.],\n",
              "        [6., 7.]]], dtype=float32)"
            ]
          },
          "metadata": {},
          "execution_count": 46
        }
      ]
    },
    {
      "cell_type": "markdown",
      "source": [
        "### Array Operations"
      ],
      "metadata": {
        "id": "k-y-aaV9u52l"
      }
    },
    {
      "cell_type": "code",
      "source": [
        "a1 = np.arange(12).reshape(3,4)\n",
        "a2 = np.arange(12,24).reshape(3,4)\n",
        "\n",
        "a2"
      ],
      "metadata": {
        "colab": {
          "base_uri": "https://localhost:8080/"
        },
        "id": "mIk8tk53HnOW",
        "outputId": "668cd00a-a8df-46f3-f22d-2a3a25840193"
      },
      "execution_count": 47,
      "outputs": [
        {
          "output_type": "execute_result",
          "data": {
            "text/plain": [
              "array([[12, 13, 14, 15],\n",
              "       [16, 17, 18, 19],\n",
              "       [20, 21, 22, 23]])"
            ]
          },
          "metadata": {},
          "execution_count": 47
        }
      ]
    },
    {
      "cell_type": "code",
      "source": [
        "# scalar operations\n",
        "\n",
        "# arithmetic\n",
        "a1 ** 2"
      ],
      "metadata": {
        "colab": {
          "base_uri": "https://localhost:8080/"
        },
        "id": "vtQrWQKD87Fn",
        "outputId": "2c90b171-086f-447c-c96a-46d47f003316"
      },
      "execution_count": 46,
      "outputs": [
        {
          "output_type": "execute_result",
          "data": {
            "text/plain": [
              "array([ 0,  1,  4,  9, 16, 25, 36, 49, 64, 81])"
            ]
          },
          "metadata": {},
          "execution_count": 46
        }
      ]
    },
    {
      "cell_type": "code",
      "source": [
        "# relational\n",
        "a2 == 15"
      ],
      "metadata": {
        "colab": {
          "base_uri": "https://localhost:8080/"
        },
        "id": "mCgPxTzQrtte",
        "outputId": "14a8bbd7-363d-42a7-bc28-984d37c6de07"
      },
      "execution_count": null,
      "outputs": [
        {
          "output_type": "execute_result",
          "data": {
            "text/plain": [
              "array([[False, False, False,  True],\n",
              "       [False, False, False, False],\n",
              "       [False, False, False, False]])"
            ]
          },
          "metadata": {},
          "execution_count": 129
        }
      ]
    },
    {
      "cell_type": "code",
      "source": [
        "# vector operations\n",
        "# arithmetic\n",
        "a1 ** a2"
      ],
      "metadata": {
        "colab": {
          "base_uri": "https://localhost:8080/"
        },
        "id": "E2S3xDRxrt5D",
        "outputId": "2dfc1e18-65f7-4131-aed8-67bcc7b0996b"
      },
      "execution_count": null,
      "outputs": [
        {
          "output_type": "execute_result",
          "data": {
            "text/plain": [
              "array([[                   0,                    1,                16384,\n",
              "                    14348907],\n",
              "       [          4294967296,         762939453125,      101559956668416,\n",
              "           11398895185373143],\n",
              "       [ 1152921504606846976, -1261475310744950487,  1864712049423024128,\n",
              "         6839173302027254275]])"
            ]
          },
          "metadata": {},
          "execution_count": 135
        }
      ]
    },
    {
      "cell_type": "markdown",
      "source": [
        "### Array Functions"
      ],
      "metadata": {
        "id": "AQZgntYTu8ot"
      }
    },
    {
      "cell_type": "code",
      "source": [
        "a1 = np.random.random((3,3))\n",
        "a1 = np.round(a1*100)\n",
        "a1"
      ],
      "metadata": {
        "colab": {
          "base_uri": "https://localhost:8080/"
        },
        "id": "CHUj0a_dIP4F",
        "outputId": "fbc51563-b6a7-41d3-cccd-6e1d31c279ae"
      },
      "execution_count": 49,
      "outputs": [
        {
          "output_type": "execute_result",
          "data": {
            "text/plain": [
              "array([[85., 35., 86.],\n",
              "       [82., 30., 51.],\n",
              "       [43., 98., 53.]])"
            ]
          },
          "metadata": {},
          "execution_count": 49
        }
      ]
    },
    {
      "cell_type": "code",
      "source": [
        "a4 = np.random.random((2,5))\n",
        "a4"
      ],
      "metadata": {
        "id": "Wosw6ndhzRPi",
        "outputId": "1cac4775-0899-469c-8453-34c1a2d42e74",
        "colab": {
          "base_uri": "https://localhost:8080/"
        }
      },
      "execution_count": 50,
      "outputs": [
        {
          "output_type": "execute_result",
          "data": {
            "text/plain": [
              "array([[0.14131069, 0.04743729, 0.78308236, 0.12727344, 0.10803848],\n",
              "       [0.95242968, 0.25687899, 0.91628086, 0.52317842, 0.47206793]])"
            ]
          },
          "metadata": {},
          "execution_count": 50
        }
      ]
    },
    {
      "cell_type": "code",
      "source": [
        "a4 = np.round(a4*20)\n",
        "a4"
      ],
      "metadata": {
        "id": "Igfa0iTUzhxC",
        "outputId": "d9c2373d-59d0-4cc7-943d-b4960751f24a",
        "colab": {
          "base_uri": "https://localhost:8080/"
        }
      },
      "execution_count": 56,
      "outputs": [
        {
          "output_type": "execute_result",
          "data": {
            "text/plain": [
              "array([[  0.,   0., 160.,   0.,   0.],\n",
              "       [160.,  80., 160.,  80.,  80.]])"
            ]
          },
          "metadata": {},
          "execution_count": 56
        }
      ]
    },
    {
      "cell_type": "code",
      "source": [
        "a4.astype(np.int16)"
      ],
      "metadata": {
        "id": "DEoRIsUt0Igd",
        "outputId": "b1faa912-867c-4884-cf34-086daf7117a9",
        "colab": {
          "base_uri": "https://localhost:8080/"
        }
      },
      "execution_count": 57,
      "outputs": [
        {
          "output_type": "execute_result",
          "data": {
            "text/plain": [
              "array([[  0,   0, 160,   0,   0],\n",
              "       [160,  80, 160,  80,  80]], dtype=int16)"
            ]
          },
          "metadata": {},
          "execution_count": 57
        }
      ]
    },
    {
      "cell_type": "code",
      "source": [
        "# max/min/sum/prod\n",
        "# 0 -> col and 1 -> row\n",
        "np.prod(a1,axis=0) #multiply all elements along ROW in np.array"
      ],
      "metadata": {
        "colab": {
          "base_uri": "https://localhost:8080/"
        },
        "id": "J1EWNET29Urx",
        "outputId": "9db1d19f-00be-4fc3-db36-9b86355ef70f"
      },
      "execution_count": 59,
      "outputs": [
        {
          "output_type": "execute_result",
          "data": {
            "text/plain": [
              "array([299710., 102900., 232458.])"
            ]
          },
          "metadata": {},
          "execution_count": 59
        }
      ]
    },
    {
      "cell_type": "code",
      "source": [
        "# mean/median/std/var\n",
        "np.var(a1,axis=1)"
      ],
      "metadata": {
        "colab": {
          "base_uri": "https://localhost:8080/"
        },
        "id": "JAlMLFkds9KC",
        "outputId": "63636deb-3321-4714-d5a4-388445e1c492"
      },
      "execution_count": null,
      "outputs": [
        {
          "output_type": "execute_result",
          "data": {
            "text/plain": [
              "array([317.55555556, 854.        ,  96.22222222])"
            ]
          },
          "metadata": {},
          "execution_count": 153
        }
      ]
    },
    {
      "cell_type": "code",
      "source": [
        "# trigonomoetric functions\n",
        "np.sin(a1)"
      ],
      "metadata": {
        "colab": {
          "base_uri": "https://localhost:8080/"
        },
        "id": "vwLoQQVqs-m-",
        "outputId": "10fb34bb-956a-4c6f-93aa-d01bc2c8dbb3"
      },
      "execution_count": 58,
      "outputs": [
        {
          "output_type": "execute_result",
          "data": {
            "text/plain": [
              "array([[-0.17607562, -0.42818267, -0.92345845],\n",
              "       [ 0.31322878, -0.98803162,  0.67022918],\n",
              "       [-0.83177474, -0.57338187,  0.39592515]])"
            ]
          },
          "metadata": {},
          "execution_count": 58
        }
      ]
    },
    {
      "cell_type": "code",
      "source": [
        "# dot product\n",
        "a2 = np.arange(12).reshape(3,4)\n",
        "a3 = np.arange(12,24).reshape(4,3)\n",
        "\n",
        "np.dot(a2,a3)"
      ],
      "metadata": {
        "colab": {
          "base_uri": "https://localhost:8080/"
        },
        "id": "RoEtYuiytFm1",
        "outputId": "7ab0e6f1-820d-4deb-c7a3-b3301eed9ec4"
      },
      "execution_count": null,
      "outputs": [
        {
          "output_type": "execute_result",
          "data": {
            "text/plain": [
              "array([[114, 120, 126],\n",
              "       [378, 400, 422],\n",
              "       [642, 680, 718]])"
            ]
          },
          "metadata": {},
          "execution_count": 157
        }
      ]
    },
    {
      "cell_type": "code",
      "source": [
        "# log and exponents\n",
        "np.exp(a1)"
      ],
      "metadata": {
        "colab": {
          "base_uri": "https://localhost:8080/"
        },
        "id": "qd7GmrgEtH6i",
        "outputId": "85a52de0-68b1-4838-c462-f28a7e00d4db"
      },
      "execution_count": null,
      "outputs": [
        {
          "output_type": "execute_result",
          "data": {
            "text/plain": [
              "array([[4.72783947e+18, 1.44625706e+12, 6.83767123e+30],\n",
              "       [5.32048241e+11, 2.45124554e+40, 4.31123155e+15],\n",
              "       [2.90488497e+13, 6.56599691e+07, 1.09663316e+03]])"
            ]
          },
          "metadata": {},
          "execution_count": 160
        }
      ]
    },
    {
      "cell_type": "code",
      "source": [
        "# round/floor/ceil\n",
        "\n",
        "np.ceil(np.random.random((2,3))*100)"
      ],
      "metadata": {
        "colab": {
          "base_uri": "https://localhost:8080/"
        },
        "id": "EOXnVCZhtKk1",
        "outputId": "14e01671-e3cf-4d2d-f06c-9dda150e8cb9"
      },
      "execution_count": 3,
      "outputs": [
        {
          "output_type": "execute_result",
          "data": {
            "text/plain": [
              "array([[87., 60., 24.],\n",
              "       [95., 10., 43.]])"
            ]
          },
          "metadata": {},
          "execution_count": 3
        }
      ]
    },
    {
      "cell_type": "markdown",
      "source": [
        "### Indexing and Slicing"
      ],
      "metadata": {
        "id": "2pYZJMrAuvuv"
      }
    },
    {
      "cell_type": "code",
      "source": [
        "a1 = np.arange(10)\n",
        "a2 = np.arange(12).reshape(3,4)\n",
        "a3 = np.arange(8).reshape(2,2,2)\n",
        "\n",
        "a3"
      ],
      "metadata": {
        "colab": {
          "base_uri": "https://localhost:8080/"
        },
        "id": "v1LynzX9u2R-",
        "outputId": "fc67f57c-6683-41bd-a9db-e57b41100166"
      },
      "execution_count": 5,
      "outputs": [
        {
          "output_type": "execute_result",
          "data": {
            "text/plain": [
              "array([[[0, 1],\n",
              "        [2, 3]],\n",
              "\n",
              "       [[4, 5],\n",
              "        [6, 7]]])"
            ]
          },
          "metadata": {},
          "execution_count": 5
        }
      ]
    },
    {
      "cell_type": "code",
      "source": [
        "a1"
      ],
      "metadata": {
        "colab": {
          "base_uri": "https://localhost:8080/"
        },
        "id": "qyFbwR9Ku2YE",
        "outputId": "4289815e-ecc9-4e35-aeac-cd0e4b4d1f61"
      },
      "execution_count": 6,
      "outputs": [
        {
          "output_type": "execute_result",
          "data": {
            "text/plain": [
              "array([0, 1, 2, 3, 4, 5, 6, 7, 8, 9])"
            ]
          },
          "metadata": {},
          "execution_count": 6
        }
      ]
    },
    {
      "cell_type": "code",
      "source": [
        "a2"
      ],
      "metadata": {
        "colab": {
          "base_uri": "https://localhost:8080/"
        },
        "id": "Q2IbBdEXu2a5",
        "outputId": "9ec4b1e7-8432-4268-f65f-bdad2b5f07d7"
      },
      "execution_count": 8,
      "outputs": [
        {
          "output_type": "execute_result",
          "data": {
            "text/plain": [
              "array([[ 0,  1,  2,  3],\n",
              "       [ 4,  5,  6,  7],\n",
              "       [ 8,  9, 10, 11]])"
            ]
          },
          "metadata": {},
          "execution_count": 8
        }
      ]
    },
    {
      "cell_type": "code",
      "source": [
        "a2[1,0]"
      ],
      "metadata": {
        "colab": {
          "base_uri": "https://localhost:8080/"
        },
        "id": "GIR5YhVzu2dc",
        "outputId": "bf1eec26-abea-44e4-d432-a8734a6dc085"
      },
      "execution_count": 7,
      "outputs": [
        {
          "output_type": "execute_result",
          "data": {
            "text/plain": [
              "4"
            ]
          },
          "metadata": {},
          "execution_count": 7
        }
      ]
    },
    {
      "cell_type": "code",
      "source": [
        "a3"
      ],
      "metadata": {
        "colab": {
          "base_uri": "https://localhost:8080/"
        },
        "id": "IbM-KNY3HP9-",
        "outputId": "12e869cc-e9b3-43b4-a81b-01c4bfca5d5e"
      },
      "execution_count": 9,
      "outputs": [
        {
          "output_type": "execute_result",
          "data": {
            "text/plain": [
              "array([[[0, 1],\n",
              "        [2, 3]],\n",
              "\n",
              "       [[4, 5],\n",
              "        [6, 7]]])"
            ]
          },
          "metadata": {},
          "execution_count": 9
        }
      ]
    },
    {
      "cell_type": "code",
      "source": [
        "a3[1,0,1]"
      ],
      "metadata": {
        "colab": {
          "base_uri": "https://localhost:8080/"
        },
        "id": "xG7HU0RgHQD-",
        "outputId": "34a147f4-1ec9-4f01-e77e-b5672fdc171a"
      },
      "execution_count": 10,
      "outputs": [
        {
          "output_type": "execute_result",
          "data": {
            "text/plain": [
              "5"
            ]
          },
          "metadata": {},
          "execution_count": 10
        }
      ]
    },
    {
      "cell_type": "code",
      "source": [
        "a3[1,1,0]"
      ],
      "metadata": {
        "colab": {
          "base_uri": "https://localhost:8080/"
        },
        "id": "3EhcikSWHQKO",
        "outputId": "1a3fe02e-8b8f-4182-9a6d-0bb023be5b8c"
      },
      "execution_count": null,
      "outputs": [
        {
          "output_type": "execute_result",
          "data": {
            "text/plain": [
              "6"
            ]
          },
          "metadata": {},
          "execution_count": 179
        }
      ]
    },
    {
      "cell_type": "code",
      "source": [
        "a1"
      ],
      "metadata": {
        "colab": {
          "base_uri": "https://localhost:8080/"
        },
        "id": "_cgU2A52HQO0",
        "outputId": "eed00cc5-cefc-48de-bdc4-f28946b3131e"
      },
      "execution_count": null,
      "outputs": [
        {
          "output_type": "execute_result",
          "data": {
            "text/plain": [
              "array([0, 1, 2, 3, 4, 5, 6, 7, 8, 9])"
            ]
          },
          "metadata": {},
          "execution_count": 180
        }
      ]
    },
    {
      "cell_type": "code",
      "source": [
        "a1[2:5:2]"
      ],
      "metadata": {
        "colab": {
          "base_uri": "https://localhost:8080/"
        },
        "id": "HnFM0Wa5IMw2",
        "outputId": "312df828-b754-46e8-e47c-b6f3f2d11ad8"
      },
      "execution_count": null,
      "outputs": [
        {
          "output_type": "execute_result",
          "data": {
            "text/plain": [
              "array([2, 4])"
            ]
          },
          "metadata": {},
          "execution_count": 182
        }
      ]
    },
    {
      "cell_type": "code",
      "source": [
        "a2"
      ],
      "metadata": {
        "colab": {
          "base_uri": "https://localhost:8080/"
        },
        "id": "SDWOK56EIM3n",
        "outputId": "682830f3-6c21-43c3-9b05-df473541570c"
      },
      "execution_count": null,
      "outputs": [
        {
          "output_type": "execute_result",
          "data": {
            "text/plain": [
              "array([[ 0,  1,  2,  3],\n",
              "       [ 4,  5,  6,  7],\n",
              "       [ 8,  9, 10, 11]])"
            ]
          },
          "metadata": {},
          "execution_count": 183
        }
      ]
    },
    {
      "cell_type": "code",
      "source": [
        "a2[0:2,1::2]"
      ],
      "metadata": {
        "colab": {
          "base_uri": "https://localhost:8080/"
        },
        "id": "q55x6VoiKmpX",
        "outputId": "293003ec-8b3c-4a87-de90-eba372e12033"
      },
      "execution_count": 11,
      "outputs": [
        {
          "output_type": "execute_result",
          "data": {
            "text/plain": [
              "array([[1, 3],\n",
              "       [5, 7]])"
            ]
          },
          "metadata": {},
          "execution_count": 11
        }
      ]
    },
    {
      "cell_type": "code",
      "source": [
        "a2[::2,1::2]"
      ],
      "metadata": {
        "colab": {
          "base_uri": "https://localhost:8080/"
        },
        "id": "t2hA9ZJNJOBW",
        "outputId": "e6740d01-e110-4b16-cb76-f5f7471eab2d"
      },
      "execution_count": null,
      "outputs": [
        {
          "output_type": "execute_result",
          "data": {
            "text/plain": [
              "array([[ 1,  3],\n",
              "       [ 9, 11]])"
            ]
          },
          "metadata": {},
          "execution_count": 189
        }
      ]
    },
    {
      "cell_type": "code",
      "source": [
        "a2[1,::3]"
      ],
      "metadata": {
        "colab": {
          "base_uri": "https://localhost:8080/"
        },
        "id": "hubSAa0eKSCt",
        "outputId": "fd7f2aef-9c08-4621-9bb7-0877dc98fb8d"
      },
      "execution_count": null,
      "outputs": [
        {
          "output_type": "execute_result",
          "data": {
            "text/plain": [
              "array([4, 7])"
            ]
          },
          "metadata": {},
          "execution_count": 190
        }
      ]
    },
    {
      "cell_type": "code",
      "source": [
        "a2[0,:]"
      ],
      "metadata": {
        "colab": {
          "base_uri": "https://localhost:8080/"
        },
        "id": "mi2B5NN9IM-B",
        "outputId": "673febf9-b6ed-4fb7-d12d-32e9b3a9938a"
      },
      "execution_count": null,
      "outputs": [
        {
          "output_type": "execute_result",
          "data": {
            "text/plain": [
              "array([0, 1, 2, 3])"
            ]
          },
          "metadata": {},
          "execution_count": 184
        }
      ]
    },
    {
      "cell_type": "code",
      "source": [
        "a2[:,2]"
      ],
      "metadata": {
        "colab": {
          "base_uri": "https://localhost:8080/"
        },
        "id": "u7dQcPKpINDS",
        "outputId": "dd032bf5-8e11-4f23-9ec7-5e1807fda319"
      },
      "execution_count": null,
      "outputs": [
        {
          "output_type": "execute_result",
          "data": {
            "text/plain": [
              "array([ 2,  6, 10])"
            ]
          },
          "metadata": {},
          "execution_count": 185
        }
      ]
    },
    {
      "cell_type": "code",
      "source": [
        "a2[1:,1:3]"
      ],
      "metadata": {
        "colab": {
          "base_uri": "https://localhost:8080/"
        },
        "id": "GYjyXNKnINTA",
        "outputId": "d1214ff7-d55d-43e4-94bb-8a6153a07a8a"
      },
      "execution_count": null,
      "outputs": [
        {
          "output_type": "execute_result",
          "data": {
            "text/plain": [
              "array([[ 5,  6],\n",
              "       [ 9, 10]])"
            ]
          },
          "metadata": {},
          "execution_count": 186
        }
      ]
    },
    {
      "cell_type": "code",
      "source": [
        "a3 = np.arange(27).reshape(3,3,3)\n",
        "a3"
      ],
      "metadata": {
        "colab": {
          "base_uri": "https://localhost:8080/"
        },
        "id": "Z-24y62tK7KO",
        "outputId": "ed21a006-35eb-49c5-a08b-3d5740ad8478"
      },
      "execution_count": 12,
      "outputs": [
        {
          "output_type": "execute_result",
          "data": {
            "text/plain": [
              "array([[[ 0,  1,  2],\n",
              "        [ 3,  4,  5],\n",
              "        [ 6,  7,  8]],\n",
              "\n",
              "       [[ 9, 10, 11],\n",
              "        [12, 13, 14],\n",
              "        [15, 16, 17]],\n",
              "\n",
              "       [[18, 19, 20],\n",
              "        [21, 22, 23],\n",
              "        [24, 25, 26]]])"
            ]
          },
          "metadata": {},
          "execution_count": 12
        }
      ]
    },
    {
      "cell_type": "code",
      "source": [
        "a3[::2,0,::2]"
      ],
      "metadata": {
        "colab": {
          "base_uri": "https://localhost:8080/"
        },
        "id": "DB1bM8NCMTub",
        "outputId": "9d8f91b7-3074-4788-e464-5529082cf4ba"
      },
      "execution_count": null,
      "outputs": [
        {
          "output_type": "execute_result",
          "data": {
            "text/plain": [
              "array([[ 0,  2],\n",
              "       [18, 20]])"
            ]
          },
          "metadata": {},
          "execution_count": 201
        }
      ]
    },
    {
      "cell_type": "code",
      "source": [
        "a3[2,1:,1:]"
      ],
      "metadata": {
        "colab": {
          "base_uri": "https://localhost:8080/"
        },
        "id": "gPOgRWfNLxPF",
        "outputId": "ecbe6944-ed2f-4036-8deb-edc9880285a2"
      },
      "execution_count": null,
      "outputs": [
        {
          "output_type": "execute_result",
          "data": {
            "text/plain": [
              "array([[22, 23],\n",
              "       [25, 26]])"
            ]
          },
          "metadata": {},
          "execution_count": 200
        }
      ]
    },
    {
      "cell_type": "code",
      "source": [
        "a3[0,1,:]"
      ],
      "metadata": {
        "colab": {
          "base_uri": "https://localhost:8080/"
        },
        "id": "S3OJJAMXK7RV",
        "outputId": "b6630bc9-6ffd-4258-fe8f-bc7f988d39fc"
      },
      "execution_count": null,
      "outputs": [
        {
          "output_type": "execute_result",
          "data": {
            "text/plain": [
              "array([3, 4, 5])"
            ]
          },
          "metadata": {},
          "execution_count": 198
        }
      ]
    },
    {
      "cell_type": "markdown",
      "source": [
        "### Iterating"
      ],
      "metadata": {
        "id": "dUv9qM1yuIKJ"
      }
    },
    {
      "cell_type": "code",
      "source": [
        "import numpy as np\n",
        "a1 = np.arange(10)"
      ],
      "metadata": {
        "id": "z5m8ZJA8rUMn"
      },
      "execution_count": 14,
      "outputs": []
    },
    {
      "cell_type": "code",
      "source": [
        "a1\n",
        "\n",
        "for i in a1:\n",
        "  print(i)"
      ],
      "metadata": {
        "colab": {
          "base_uri": "https://localhost:8080/"
        },
        "id": "lNgaCad6uKhm",
        "outputId": "d3f9078e-029f-419b-9c85-038f9b7178d4"
      },
      "execution_count": 15,
      "outputs": [
        {
          "output_type": "stream",
          "name": "stdout",
          "text": [
            "0\n",
            "1\n",
            "2\n",
            "3\n",
            "4\n",
            "5\n",
            "6\n",
            "7\n",
            "8\n",
            "9\n"
          ]
        }
      ]
    },
    {
      "cell_type": "code",
      "source": [
        "a2 = np.arange(12).reshape(3,4)\n",
        "a2"
      ],
      "metadata": {
        "colab": {
          "base_uri": "https://localhost:8080/"
        },
        "id": "jNIsE0YFM6ZN",
        "outputId": "8898c493-6694-462b-bf68-9df634f6713d"
      },
      "execution_count": 17,
      "outputs": [
        {
          "output_type": "execute_result",
          "data": {
            "text/plain": [
              "array([[ 0,  1,  2,  3],\n",
              "       [ 4,  5,  6,  7],\n",
              "       [ 8,  9, 10, 11]])"
            ]
          },
          "metadata": {},
          "execution_count": 17
        }
      ]
    },
    {
      "cell_type": "code",
      "source": [
        "for i in a2:\n",
        "  print(i)"
      ],
      "metadata": {
        "colab": {
          "base_uri": "https://localhost:8080/"
        },
        "id": "B2Hk-zAONHTY",
        "outputId": "793c2607-7b52-4556-cda0-fd82e60905c8"
      },
      "execution_count": null,
      "outputs": [
        {
          "output_type": "stream",
          "name": "stdout",
          "text": [
            "[0 1 2 3]\n",
            "[4 5 6 7]\n",
            "[ 8  9 10 11]\n"
          ]
        }
      ]
    },
    {
      "cell_type": "code",
      "source": [
        "a3"
      ],
      "metadata": {
        "colab": {
          "base_uri": "https://localhost:8080/"
        },
        "id": "8hfuC98qM-hC",
        "outputId": "0fb1ef2e-f8fd-4701-ba34-28c54527e2ce"
      },
      "execution_count": null,
      "outputs": [
        {
          "output_type": "execute_result",
          "data": {
            "text/plain": [
              "array([[[ 0,  1,  2],\n",
              "        [ 3,  4,  5],\n",
              "        [ 6,  7,  8]],\n",
              "\n",
              "       [[ 9, 10, 11],\n",
              "        [12, 13, 14],\n",
              "        [15, 16, 17]],\n",
              "\n",
              "       [[18, 19, 20],\n",
              "        [21, 22, 23],\n",
              "        [24, 25, 26]]])"
            ]
          },
          "metadata": {},
          "execution_count": 204
        }
      ]
    },
    {
      "cell_type": "code",
      "source": [
        "for i in a3:\n",
        "  print(i)"
      ],
      "metadata": {
        "id": "6RVxS3snr0go",
        "outputId": "6c704b0c-fa05-47c5-c3b9-96f76f44474d",
        "colab": {
          "base_uri": "https://localhost:8080/"
        }
      },
      "execution_count": 18,
      "outputs": [
        {
          "output_type": "stream",
          "name": "stdout",
          "text": [
            "[[0 1 2]\n",
            " [3 4 5]\n",
            " [6 7 8]]\n",
            "[[ 9 10 11]\n",
            " [12 13 14]\n",
            " [15 16 17]]\n",
            "[[18 19 20]\n",
            " [21 22 23]\n",
            " [24 25 26]]\n"
          ]
        }
      ]
    },
    {
      "cell_type": "code",
      "source": [
        "for i in a3:\n",
        "  print(i+1)"
      ],
      "metadata": {
        "colab": {
          "base_uri": "https://localhost:8080/"
        },
        "id": "DsYEnw2ONOIy",
        "outputId": "95d3cd25-6852-4bb6-fa21-7f885318fcb2"
      },
      "execution_count": 19,
      "outputs": [
        {
          "output_type": "stream",
          "name": "stdout",
          "text": [
            "[[1 2 3]\n",
            " [4 5 6]\n",
            " [7 8 9]]\n",
            "[[10 11 12]\n",
            " [13 14 15]\n",
            " [16 17 18]]\n",
            "[[19 20 21]\n",
            " [22 23 24]\n",
            " [25 26 27]]\n"
          ]
        }
      ]
    },
    {
      "cell_type": "code",
      "source": [
        "\"\"\"\n",
        "Let's break down the code and explain how the loop works.\n",
        "\n",
        "**What does `i`, `j`, and `k` represent?**\n",
        "\n",
        "In the context of the 3D array `a3`, `i`, `j`, and `k` represent the indices of the array along each axis:\n",
        "\n",
        "* `i`: represents the index along the **first axis** (axis=0), which has a shape of 3.\n",
        "* `j`: represents the index along the **second axis** (axis=1), which has a shape of 3.\n",
        "* `k`: represents the index along the **third axis** (axis=2), which has a shape of 3.\n",
        "\n",
        "**How does the loop work?**\n",
        "\n",
        "The loop is a nested loop, which means that it has three levels of iteration:\n",
        "\n",
        "1. The outermost loop iterates over the first axis (`i`): `for i in range(a3.shape[0]):`\n",
        "2. The middle loop iterates over the second axis (`j`): `for j in range(a3.shape[1]):`\n",
        "3. The innermost loop iterates over the third axis (`k`): `for k in range(a3.shape[2]):`\n",
        "\n",
        "Here's the flow of the loop with the values of `i`, `j`, and `k`:\n",
        "\n",
        "**Iteration 1**\n",
        "\n",
        "* `i` = 0 (first axis)\n",
        "\t+ `j` = 0 (second axis)\n",
        "\t\t- `k` = 0 (third axis)\n",
        "\t\t\t- `a3[i, j, k]` = `a3[0, 0, 0]` = 0\n",
        "\t\t- `k` = 1 (third axis)\n",
        "\t\t\t- `a3[i, j, k]` = `a3[0, 0, 1]` = 1\n",
        "\t\t- `k` = 2 (third axis)\n",
        "\t\t\t- `a3[i, j, k]` = `a3[0, 0, 2]` = 2\n",
        "\t+ `j` = 1 (second axis)\n",
        "\t\t- `k` = 0 (third axis)\n",
        "\t\t\t- `a3[i, j, k]` = `a3[0, 1, 0]` = 3\n",
        "\t\t- `k` = 1 (third axis)\n",
        "\t\t\t- `a3[i, j, k]` = `a3[0, 1, 1]` = 4\n",
        "\t\t- `k` = 2 (third axis)\n",
        "\t\t\t- `a3[i, j, k]` = `a3[0, 1, 2]` = 5\n",
        "\t+ `j` = 2 (second axis)\n",
        "\t\t- `k` = 0 (third axis)\n",
        "\t\t\t- `a3[i, j, k]` = `a3[0, 2, 0]` = 6\n",
        "\t\t- `k` = 1 (third axis)\n",
        "\t\t\t- `a3[i, j, k]` = `a3[0, 2, 1]` = 7\n",
        "\t\t- `k` = 2 (third axis)\n",
        "\t\t\t- `a3[i, j, k]` = `a3[0, 2, 2]` = 8\n",
        "\n",
        "**Iteration 2**\n",
        "\n",
        "* `i` = 1 (first axis)\n",
        "\t+ `j` = 0 (second axis)\n",
        "\t\t- `k` = 0 (third axis)\n",
        "\t\t\t- `a3[i, j, k]` = `a3[1, 0, 0]` = 9\n",
        "\t\t- `k` = 1 (third axis)\n",
        "\t\t\t- `a3[i, j, k]` = `a3[1, 0, 1]` = 10\n",
        "\t\t- `k` = 2 (third axis)\n",
        "\t\t\t- `a3[i, j, k]` = `a3[1, 0, 2]` = 11\n",
        "\t+ `j` = 1 (second axis)\n",
        "\t\t- `k` = 0 (third axis)\n",
        "\t\t\t- `a3[i, j, k]` = `a3[1, 1, 0]` = 12\n",
        "\t\t- `k` = 1 (third axis)\n",
        "\t\t\t- `a3[i, j, k]` = `a3[1, 1, 1]` = 13\n",
        "\t\t- `k` = 2 (third axis)\n",
        "\t\t\t- `a3[i, j, k]` = `a3[1, 1, 2]` = 14\n",
        "\n",
        "\"\"\"\n",
        "\n",
        "for i in range(a3.shape[0]):\n",
        "    for j in range(a3.shape[1]):\n",
        "        for k in range(a3.shape[2]):\n",
        "            print(a3[i, j, k])"
      ],
      "metadata": {
        "id": "ukjMRqQnsFGF",
        "outputId": "d5f2deae-d4d5-41b7-b133-5388839bb89e",
        "colab": {
          "base_uri": "https://localhost:8080/"
        }
      },
      "execution_count": 24,
      "outputs": [
        {
          "output_type": "stream",
          "name": "stdout",
          "text": [
            "0\n",
            "1\n",
            "2\n",
            "3\n",
            "4\n",
            "5\n",
            "6\n",
            "7\n",
            "8\n",
            "9\n",
            "10\n",
            "11\n",
            "12\n",
            "13\n",
            "14\n",
            "15\n",
            "16\n",
            "17\n",
            "18\n",
            "19\n",
            "20\n",
            "21\n",
            "22\n",
            "23\n",
            "24\n",
            "25\n",
            "26\n"
          ]
        }
      ]
    },
    {
      "cell_type": "code",
      "source": [
        "for i in np.nditer(a3):\n",
        "  print(i)"
      ],
      "metadata": {
        "colab": {
          "base_uri": "https://localhost:8080/"
        },
        "id": "IuRJ1QiRNZRM",
        "outputId": "f2d71e99-8ca1-4680-dc3d-7a16ddb8c08a"
      },
      "execution_count": 47,
      "outputs": [
        {
          "output_type": "stream",
          "name": "stdout",
          "text": [
            "0\n",
            "1\n",
            "2\n",
            "3\n",
            "4\n",
            "5\n",
            "6\n",
            "7\n",
            "8\n",
            "9\n",
            "10\n",
            "11\n",
            "12\n",
            "13\n",
            "14\n",
            "15\n",
            "16\n",
            "17\n",
            "18\n",
            "19\n",
            "20\n",
            "21\n",
            "22\n",
            "23\n",
            "24\n",
            "25\n",
            "26\n"
          ]
        }
      ]
    },
    {
      "cell_type": "markdown",
      "source": [
        "### Reshaping"
      ],
      "metadata": {
        "id": "ZSS6AF_luNc-"
      }
    },
    {
      "cell_type": "code",
      "source": [
        "# reshape\n",
        "a41"
      ],
      "metadata": {
        "id": "NeXLsnBb9ko7",
        "outputId": "af24b97a-bdd4-458a-c1a1-91e148d68bb4",
        "colab": {
          "base_uri": "https://localhost:8080/"
        }
      },
      "execution_count": 50,
      "outputs": [
        {
          "output_type": "execute_result",
          "data": {
            "text/plain": [
              "array([[[[ 0.],\n",
              "         [ 1.]],\n",
              "\n",
              "        [[ 2.],\n",
              "         [ 3.]]],\n",
              "\n",
              "\n",
              "       [[[ 4.],\n",
              "         [ 5.]],\n",
              "\n",
              "        [[ 6.],\n",
              "         [ 7.]]],\n",
              "\n",
              "\n",
              "       [[[ 8.],\n",
              "         [ 9.]],\n",
              "\n",
              "        [[10.],\n",
              "         [11.]]],\n",
              "\n",
              "\n",
              "       [[[12.],\n",
              "         [13.]],\n",
              "\n",
              "        [[14.],\n",
              "         [15.]]],\n",
              "\n",
              "\n",
              "       [[[16.],\n",
              "         [17.]],\n",
              "\n",
              "        [[18.],\n",
              "         [19.]]]], dtype=float16)"
            ]
          },
          "metadata": {},
          "execution_count": 50
        }
      ]
    },
    {
      "cell_type": "code",
      "source": [
        "a41.reshape((2,10))"
      ],
      "metadata": {
        "id": "RDtnu6MH0HY2",
        "outputId": "c81f3041-ee38-40af-a24a-9ecdf720c13f",
        "colab": {
          "base_uri": "https://localhost:8080/"
        }
      },
      "execution_count": 55,
      "outputs": [
        {
          "output_type": "execute_result",
          "data": {
            "text/plain": [
              "array([[ 0.,  1.,  2.,  3.,  4.,  5.,  6.,  7.,  8.,  9.],\n",
              "       [10., 11., 12., 13., 14., 15., 16., 17., 18., 19.]], dtype=float16)"
            ]
          },
          "metadata": {},
          "execution_count": 55
        }
      ]
    },
    {
      "cell_type": "code",
      "source": [
        "a41 = a41.reshape((2,10)) # u need to assign the shape to see the reflected changes in a41\n",
        "a41"
      ],
      "metadata": {
        "id": "6KsU5Ad7zBXc",
        "outputId": "3959cf9a-b418-4adb-f7b7-6e339e6e45f1",
        "colab": {
          "base_uri": "https://localhost:8080/"
        }
      },
      "execution_count": 53,
      "outputs": [
        {
          "output_type": "execute_result",
          "data": {
            "text/plain": [
              "array([[ 0.,  1.,  2.,  3.,  4.,  5.,  6.,  7.,  8.,  9.],\n",
              "       [10., 11., 12., 13., 14., 15., 16., 17., 18., 19.]], dtype=float16)"
            ]
          },
          "metadata": {},
          "execution_count": 53
        }
      ]
    },
    {
      "cell_type": "code",
      "source": [
        "# Transpose\n",
        "np.transpose(a2)\n",
        "a2.T"
      ],
      "metadata": {
        "colab": {
          "base_uri": "https://localhost:8080/"
        },
        "id": "DBIaUE8duQDz",
        "outputId": "331bb635-2d7d-4015-d8be-d474c075db70"
      },
      "execution_count": 58,
      "outputs": [
        {
          "output_type": "execute_result",
          "data": {
            "text/plain": [
              "array([[ 0,  4,  8],\n",
              "       [ 1,  5,  9],\n",
              "       [ 2,  6, 10],\n",
              "       [ 3,  7, 11]])"
            ]
          },
          "metadata": {},
          "execution_count": 58
        }
      ]
    },
    {
      "cell_type": "code",
      "source": [
        "# ravel\n",
        "\"\"\"\n",
        "np.ravel() is a function provided by the NumPy library in Python, used to convert a multi-dimensional array into a one-dimensional array.\n",
        "Unlike np.flatten(), which creates a new array, np.ravel() returns a flattened view of the original array.\n",
        "\"\"\"\n",
        "a3.ravel()"
      ],
      "metadata": {
        "colab": {
          "base_uri": "https://localhost:8080/"
        },
        "id": "IULUNn5OuQMT",
        "outputId": "59ae9b08-3434-4eb7-f207-86ba59895c9c"
      },
      "execution_count": 59,
      "outputs": [
        {
          "output_type": "execute_result",
          "data": {
            "text/plain": [
              "array([ 0,  1,  2,  3,  4,  5,  6,  7,  8,  9, 10, 11, 12, 13, 14, 15, 16,\n",
              "       17, 18, 19, 20, 21, 22, 23, 24, 25, 26])"
            ]
          },
          "metadata": {},
          "execution_count": 59
        }
      ]
    },
    {
      "cell_type": "code",
      "source": [
        "a41.ravel()"
      ],
      "metadata": {
        "id": "04O9TWsa127z",
        "outputId": "56e78737-427e-4fcc-e68b-f6800cf6dafe",
        "colab": {
          "base_uri": "https://localhost:8080/"
        }
      },
      "execution_count": 60,
      "outputs": [
        {
          "output_type": "execute_result",
          "data": {
            "text/plain": [
              "array([ 0.,  1.,  2.,  3.,  4.,  5.,  6.,  7.,  8.,  9., 10., 11., 12.,\n",
              "       13., 14., 15., 16., 17., 18., 19.], dtype=float16)"
            ]
          },
          "metadata": {},
          "execution_count": 60
        }
      ]
    },
    {
      "cell_type": "markdown",
      "source": [
        "### Stacking"
      ],
      "metadata": {
        "id": "ouKcJQ5EuUQC"
      }
    },
    {
      "cell_type": "code",
      "source": [
        "# horizontal stacking\n",
        "a4 = np.arange(12).reshape(3,4)\n",
        "a5 = np.arange(12,24).reshape(3,4)\n",
        "a5"
      ],
      "metadata": {
        "colab": {
          "base_uri": "https://localhost:8080/"
        },
        "id": "HHSY1njTuXLi",
        "outputId": "c53cbb23-5537-462c-9649-ec9434513e13"
      },
      "execution_count": 62,
      "outputs": [
        {
          "output_type": "execute_result",
          "data": {
            "text/plain": [
              "array([[12, 13, 14, 15],\n",
              "       [16, 17, 18, 19],\n",
              "       [20, 21, 22, 23]])"
            ]
          },
          "metadata": {},
          "execution_count": 62
        }
      ]
    },
    {
      "cell_type": "code",
      "source": [
        "np.hstack((a4,a5))"
      ],
      "metadata": {
        "colab": {
          "base_uri": "https://localhost:8080/"
        },
        "id": "ne9uXt3yPKez",
        "outputId": "a7a04092-8889-4628-9966-85b7ef7f5b99"
      },
      "execution_count": null,
      "outputs": [
        {
          "output_type": "execute_result",
          "data": {
            "text/plain": [
              "array([[ 0,  1,  2,  3, 12, 13, 14, 15],\n",
              "       [ 4,  5,  6,  7, 16, 17, 18, 19],\n",
              "       [ 8,  9, 10, 11, 20, 21, 22, 23]])"
            ]
          },
          "metadata": {},
          "execution_count": 223
        }
      ]
    },
    {
      "cell_type": "code",
      "source": [
        "# Vertical stacking\n",
        "np.vstack((a4,a5))"
      ],
      "metadata": {
        "colab": {
          "base_uri": "https://localhost:8080/"
        },
        "id": "F6bFFNKuuZW5",
        "outputId": "14145606-ead6-417d-ae7f-f9ff5ec78394"
      },
      "execution_count": null,
      "outputs": [
        {
          "output_type": "execute_result",
          "data": {
            "text/plain": [
              "array([[ 0,  1,  2,  3],\n",
              "       [ 4,  5,  6,  7],\n",
              "       [ 8,  9, 10, 11],\n",
              "       [12, 13, 14, 15],\n",
              "       [16, 17, 18, 19],\n",
              "       [20, 21, 22, 23]])"
            ]
          },
          "metadata": {},
          "execution_count": 222
        }
      ]
    },
    {
      "cell_type": "markdown",
      "source": [
        "### Splitting"
      ],
      "metadata": {
        "id": "kaY006uXucF5"
      }
    },
    {
      "cell_type": "code",
      "source": [
        "# horizontal splitting - done vertically\n",
        "a4"
      ],
      "metadata": {
        "colab": {
          "base_uri": "https://localhost:8080/"
        },
        "id": "kgbl6wkD9ll6",
        "outputId": "4a40f529-f2e0-4ac8-ba1e-bb3d422c5176"
      },
      "execution_count": 63,
      "outputs": [
        {
          "output_type": "execute_result",
          "data": {
            "text/plain": [
              "array([[ 0,  1,  2,  3],\n",
              "       [ 4,  5,  6,  7],\n",
              "       [ 8,  9, 10, 11]])"
            ]
          },
          "metadata": {},
          "execution_count": 63
        }
      ]
    },
    {
      "cell_type": "code",
      "source": [
        "np.hsplit(a4,2)"
      ],
      "metadata": {
        "colab": {
          "base_uri": "https://localhost:8080/"
        },
        "id": "FIfZM5BsQE5l",
        "outputId": "877b776d-66b8-4f09-c98b-1b4367248ec6"
      },
      "execution_count": 66,
      "outputs": [
        {
          "output_type": "execute_result",
          "data": {
            "text/plain": [
              "[array([[0, 1],\n",
              "        [4, 5],\n",
              "        [8, 9]]),\n",
              " array([[ 2,  3],\n",
              "        [ 6,  7],\n",
              "        [10, 11]])]"
            ]
          },
          "metadata": {},
          "execution_count": 66
        }
      ]
    },
    {
      "cell_type": "code",
      "source": [
        "# vertical splitting happens horz.ly"
      ],
      "metadata": {
        "id": "nfhKoruOuhK-"
      },
      "execution_count": 69,
      "outputs": []
    },
    {
      "cell_type": "code",
      "source": [
        "a5"
      ],
      "metadata": {
        "colab": {
          "base_uri": "https://localhost:8080/"
        },
        "id": "qJ2xEBFUuieB",
        "outputId": "09067a37-944f-4f3b-bf77-6bc332d39efd"
      },
      "execution_count": 67,
      "outputs": [
        {
          "output_type": "execute_result",
          "data": {
            "text/plain": [
              "array([[12, 13, 14, 15],\n",
              "       [16, 17, 18, 19],\n",
              "       [20, 21, 22, 23]])"
            ]
          },
          "metadata": {},
          "execution_count": 67
        }
      ]
    },
    {
      "cell_type": "code",
      "source": [
        "np.vsplit(a5,1)"
      ],
      "metadata": {
        "colab": {
          "base_uri": "https://localhost:8080/"
        },
        "id": "1wxcLLR_QWVu",
        "outputId": "9acd14a2-6452-4cc5-9101-70d6c63be78f"
      },
      "execution_count": 70,
      "outputs": [
        {
          "output_type": "execute_result",
          "data": {
            "text/plain": [
              "[array([[12, 13, 14, 15],\n",
              "        [16, 17, 18, 19],\n",
              "        [20, 21, 22, 23]])]"
            ]
          },
          "metadata": {},
          "execution_count": 70
        }
      ]
    }
  ]
}